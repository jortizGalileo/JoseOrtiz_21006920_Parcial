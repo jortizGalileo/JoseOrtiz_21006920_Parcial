{
 "cells": [
  {
   "cell_type": "markdown",
   "id": "359da2ca-ae89-4240-a0d9-b9c19543dc40",
   "metadata": {},
   "source": [
    "- Universidad Galileo\n",
    "- Maestría en Inteligencia de negocios y Analítica\n",
    "- José Ricardo Ortiz Lara\n",
    "- Carné No.21006920\n",
    "- Ciencia de datos en Phyton, Sección L"
   ]
  },
  {
   "cell_type": "markdown",
   "id": "df929d0e-a421-4188-98b9-488ad5aa35d4",
   "metadata": {},
   "source": [
    "Sección Practica:\n",
    "\n",
    "Para esta serie deberá realizar código de Python para solver el problema planteado, deberá usar Jupyter Lab (Notebook) para resolver elaborar su código, una vez finalizado deberá subir el notebook donde trabajó.\n",
    "\n",
    "Desarrolle en Python un programa el cual genere un código alfa numérico de 7 letras mayusculas y\n",
    "7 números entérelo, estos deben ser aleatorios, el código debe ser intercalado empezando por letras.\n",
    "\n",
    "Su programa debe ejecutarse siempre y esperar la tecla enter para crear un código nuevo, el\n",
    "programa solo debe detenerse cuando el usuario ingrese la palabra exit en mayusculas o\n",
    "minúsculas o combinado.\n",
    "\n",
    "Ademas de esto su programa debe separar todos los códigos que se generen en validos o no validos,\n",
    "un código se considera valido si la suma de los números que lo conforman es mayor a 30 y no es\n",
    "valido end caso contrario.\n",
    "\n",
    "Si un código es valido, este debe almacenarse en un diccionario el cual contenga la suma de los\n",
    "números enteros como llave y el código como valor, note que en una ejecución se pueden crear\n",
    "varios códigos.\n",
    "\n",
    "Por otro lado si el código no es valido, este deberá almacenarse en una lista.\n",
    "\n",
    "Al momento de que el usuario ingrese exit, el programa deberá desplegar el contenido del diccionario\n",
    "de códigos validos y la lista de códigos no válidos."
   ]
  },
  {
   "cell_type": "code",
   "execution_count": 4,
   "id": "b69f2e90-4371-4603-b0ee-4224b1a22ca1",
   "metadata": {},
   "outputs": [
    {
     "name": "stdin",
     "output_type": "stream",
     "text": [
      "Presione ENTER para generar códigos o  escriba la palabra exit para finalizar la generación de los mismos:  \n",
      "Presione ENTER para generar códigos o  escriba la palabra exit para finalizar la generación de los mismos:  \n",
      "Presione ENTER para generar códigos o  escriba la palabra exit para finalizar la generación de los mismos:  exit\n"
     ]
    },
    {
     "name": "stdout",
     "output_type": "stream",
     "text": [
      "Los siguientes códigos son válidos: \n",
      "{'Indice': 'Codigo', 33: 'Q5K0W8E4H1L7T8'}\n",
      "Los siguientes códigos no son válidos: \n",
      "['I0D3Y0V9Q3J3T2']\n"
     ]
    }
   ],
   "source": [
    "#EJERCICIO FINAL\n",
    "\n",
    "import random\n",
    "\n",
    "ListaNumero = [ ]\n",
    "ListaNoValido = [ ]\n",
    "Letras = [ ]\n",
    "Letras = 'ABCDEFGHIJKLMNOPQRSTUVWXYZ'\n",
    "strSalida = \"\"\n",
    "d = {\"Indice\": \"Codigo\"}\n",
    "\n",
    "while (True):\n",
    "  Instruccion = input(\"Presione ENTER para generar códigos o  escriba la palabra exit para finalizar la generación de los mismos: \")\n",
    "  continuar = Instruccion.lower()\n",
    "  if continuar == \"exit\":\n",
    "    break\n",
    "  elif continuar != \"exit\":\n",
    "      for i in range (0,7,1):\n",
    "              alLetras = random.randint(0, len(Letras)-1)\n",
    "              alnum = random.randint(0, 9)\n",
    "              ListaNumero.append(alnum)\n",
    "              strSalida = strSalida + Letras [alLetras] + str(alnum)\n",
    "              sumatoria = sum(ListaNumero)\n",
    "      if (sumatoria > 30):\n",
    "                            str(sumatoria)\n",
    "                            d[sumatoria] = (strSalida)\n",
    "                            strSalida = \"\"\n",
    "                            sumatoria = 0\n",
    "                            ListaNumero.clear()\n",
    "      elif(sumatoria <= 30):\n",
    "                            ListaNoValido.append((strSalida))\n",
    "                            strSalida = \"\"\n",
    "                            sumatoria = 0\n",
    "                            ListaNumero.clear()\n",
    "print(\"Los siguientes códigos son válidos: \")\n",
    "print (d)\n",
    "print(\"Los siguientes códigos no son válidos: \")\n",
    "print (ListaNoValido)"
   ]
  },
  {
   "cell_type": "code",
   "execution_count": null,
   "id": "fa8029fa-5db8-4b00-b7ae-82b92dc492ac",
   "metadata": {},
   "outputs": [],
   "source": []
  },
  {
   "cell_type": "code",
   "execution_count": null,
   "id": "a2dbfcba-0460-4db2-b1ad-e95e5da04220",
   "metadata": {},
   "outputs": [],
   "source": []
  }
 ],
 "metadata": {
  "kernelspec": {
   "display_name": "Python 3 (ipykernel)",
   "language": "python",
   "name": "python3"
  },
  "language_info": {
   "codemirror_mode": {
    "name": "ipython",
    "version": 3
   },
   "file_extension": ".py",
   "mimetype": "text/x-python",
   "name": "python",
   "nbconvert_exporter": "python",
   "pygments_lexer": "ipython3",
   "version": "3.9.7"
  }
 },
 "nbformat": 4,
 "nbformat_minor": 5
}
